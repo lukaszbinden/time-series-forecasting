{
 "cells": [
  {
   "cell_type": "code",
   "execution_count": null,
   "metadata": {},
   "outputs": [],
   "source": [
    "# predict the next one of OHLC, use shift\n",
    "lag = -1\n",
    "y_raw = df2.loc[:,\"XAUUSD\"].shift(periods=lag)"
   ]
  },
  {
   "cell_type": "code",
   "execution_count": null,
   "metadata": {},
   "outputs": [],
   "source": [
    "# to fill nan values, use fillna\n",
    "y_raw = y_raw.fillna(method='pad')\n",
    "y_raw"
   ]
  },
  {
   "cell_type": "code",
   "execution_count": null,
   "metadata": {},
   "outputs": [],
   "source": [
    "# if you have a numpy array, use DataFrame for pretty print:\n",
    "y_Test = pd.DataFrame(data=y_test)\n",
    "y_Test.columns=[\"XAUUSDopen\"]\n",
    "y_Test"
   ]
  },
  {
   "cell_type": "code",
   "execution_count": null,
   "metadata": {},
   "outputs": [],
   "source": [
    "# data normalization:\n",
    "\n",
    "# Scale data\n",
    "from sklearn.preprocessing import StandardScaler\n",
    "\n",
    "sc = StandardScaler()\n",
    "X_train_std = sc.fit_transform(X_train)\n",
    "X_test_std = sc.transform(X_test)\n",
    "\n",
    "y_train_std = sc.fit_transform(y_train.reshape(-1, 1)) #Reshape to get the right tensor dimension \n",
    "y_test_std = sc.transform(y_test.reshape(-1, 1)) #Reshape to get the right tensor dimension"
   ]
  },
  {
   "cell_type": "code",
   "execution_count": null,
   "metadata": {},
   "outputs": [],
   "source": [
    "# use price returns to make time series more stationary:\n",
    "\n",
    "# \"In prediction problems it is common practice to remove trend and make the series more stationary \n",
    "# by using price returns instead of the actual price.\"\n",
    "\n",
    "# -> For example, with the “scipy.signal.detrend” method, or by differentiating the series.\n",
    "# The Pandas library provides a method to automatically calculate the difference of our dataset. \n",
    "# This diff() method is provided on both the Series and DataFrame objects."
   ]
  }
 ],
 "metadata": {
  "kernelspec": {
   "display_name": "Python 3",
   "language": "python",
   "name": "python3"
  },
  "language_info": {
   "codemirror_mode": {
    "name": "ipython",
    "version": 3
   },
   "file_extension": ".py",
   "mimetype": "text/x-python",
   "name": "python",
   "nbconvert_exporter": "python",
   "pygments_lexer": "ipython3",
   "version": "3.6.9"
  }
 },
 "nbformat": 4,
 "nbformat_minor": 2
}
