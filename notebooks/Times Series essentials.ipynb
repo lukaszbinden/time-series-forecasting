{
 "cells": [
  {
   "cell_type": "code",
   "execution_count": null,
   "metadata": {},
   "outputs": [],
   "source": [
    "# predict the next one of OHLC, use shift\n",
    "# TODO check also parameter shift(-1, freq='H')  -> to ensure shifting is correct, even with missing time periods?\n",
    "lag = -1\n",
    "y_raw = df2.loc[:,\"XAUUSD\"].shift(periods=lag)"
   ]
  },
  {
   "cell_type": "code",
   "execution_count": null,
   "metadata": {},
   "outputs": [],
   "source": [
    "# to fill nan values, use fillna\n",
    "y_raw = y_raw.fillna(method='pad')\n",
    "y_raw"
   ]
  },
  {
   "cell_type": "code",
   "execution_count": null,
   "metadata": {},
   "outputs": [],
   "source": [
    "# if you have a numpy array, use DataFrame for pretty print:\n",
    "y_Test = pd.DataFrame(data=y_test)\n",
    "y_Test.columns=[\"XAUUSDopen\"]\n",
    "y_Test"
   ]
  },
  {
   "cell_type": "code",
   "execution_count": null,
   "metadata": {},
   "outputs": [],
   "source": [
    "# data normalization:\n",
    "\n",
    "# Scale data\n",
    "from sklearn.preprocessing import StandardScaler\n",
    "\n",
    "sc = StandardScaler()\n",
    "X_train_std = sc.fit_transform(X_train)\n",
    "X_test_std = sc.transform(X_test)\n",
    "\n",
    "y_train_std = sc.fit_transform(y_train.reshape(-1, 1)) #Reshape to get the right tensor dimension \n",
    "y_test_std = sc.transform(y_test.reshape(-1, 1)) #Reshape to get the right tensor dimension"
   ]
  },
  {
   "cell_type": "code",
   "execution_count": 1,
   "metadata": {},
   "outputs": [],
   "source": [
    "# use price returns to make time series more stationary:\n",
    "\n",
    "# \"In prediction problems it is common practice to remove trend and make the series more stationary \n",
    "# by using price returns instead of the actual price.\"\n",
    "\n",
    "# -> For example, with the “scipy.signal.detrend” method, or by differentiating the series.\n",
    "# The Pandas library provides a method to automatically calculate the difference of our dataset. \n",
    "# This diff() method is provided on both the Series and DataFrame objects."
   ]
  },
  {
   "cell_type": "code",
   "execution_count": 2,
   "metadata": {},
   "outputs": [
    {
     "name": "stdout",
     "output_type": "stream",
     "text": [
      "<class 'pandas.core.frame.DataFrame'>\n",
      "Index: 426 entries, 04/01/2016 to 11/09/2017\n",
      "Data columns (total 8 columns):\n",
      "JPM UN Equity      426 non-null float64\n",
      "USB UN Equity      426 non-null float64\n",
      "GS UN Equity       426 non-null float64\n",
      "FB UW Equity       426 non-null float64\n",
      "AAPL UW Equity     426 non-null float64\n",
      "GOOGL UW Equity    426 non-null float64\n",
      "GM UN Equity       426 non-null float64\n",
      "F UN Equity        426 non-null float64\n",
      "dtypes: float64(8)\n",
      "memory usage: 30.0+ KB\n"
     ]
    }
   ],
   "source": [
    "import pandas as pd\n",
    "\n",
    "SP500 = pd.read_csv('data/SP500_short.csv', index_col='Date')\n",
    "SP500.info()"
   ]
  },
  {
   "cell_type": "code",
   "execution_count": 3,
   "metadata": {},
   "outputs": [
    {
     "data": {
      "text/html": [
       "<div>\n",
       "<style scoped>\n",
       "    .dataframe tbody tr th:only-of-type {\n",
       "        vertical-align: middle;\n",
       "    }\n",
       "\n",
       "    .dataframe tbody tr th {\n",
       "        vertical-align: top;\n",
       "    }\n",
       "\n",
       "    .dataframe thead th {\n",
       "        text-align: right;\n",
       "    }\n",
       "</style>\n",
       "<table border=\"1\" class=\"dataframe\">\n",
       "  <thead>\n",
       "    <tr style=\"text-align: right;\">\n",
       "      <th></th>\n",
       "      <th>JPM UN Equity</th>\n",
       "      <th>USB UN Equity</th>\n",
       "      <th>GS UN Equity</th>\n",
       "      <th>FB UW Equity</th>\n",
       "      <th>AAPL UW Equity</th>\n",
       "      <th>GOOGL UW Equity</th>\n",
       "      <th>GM UN Equity</th>\n",
       "      <th>F UN Equity</th>\n",
       "    </tr>\n",
       "    <tr>\n",
       "      <th>Date</th>\n",
       "      <th></th>\n",
       "      <th></th>\n",
       "      <th></th>\n",
       "      <th></th>\n",
       "      <th></th>\n",
       "      <th></th>\n",
       "      <th></th>\n",
       "      <th></th>\n",
       "    </tr>\n",
       "  </thead>\n",
       "  <tbody>\n",
       "    <tr>\n",
       "      <td>04/01/2016</td>\n",
       "      <td>63.62</td>\n",
       "      <td>41.48</td>\n",
       "      <td>177.14</td>\n",
       "      <td>102.22</td>\n",
       "      <td>105.35</td>\n",
       "      <td>759.44</td>\n",
       "      <td>33.31</td>\n",
       "      <td>13.97</td>\n",
       "    </tr>\n",
       "    <tr>\n",
       "      <td>05/01/2016</td>\n",
       "      <td>63.73</td>\n",
       "      <td>41.68</td>\n",
       "      <td>174.09</td>\n",
       "      <td>102.73</td>\n",
       "      <td>102.71</td>\n",
       "      <td>761.53</td>\n",
       "      <td>32.43</td>\n",
       "      <td>13.72</td>\n",
       "    </tr>\n",
       "    <tr>\n",
       "      <td>06/01/2016</td>\n",
       "      <td>62.81</td>\n",
       "      <td>41.05</td>\n",
       "      <td>169.84</td>\n",
       "      <td>102.97</td>\n",
       "      <td>100.70</td>\n",
       "      <td>759.33</td>\n",
       "      <td>31.27</td>\n",
       "      <td>13.11</td>\n",
       "    </tr>\n",
       "    <tr>\n",
       "      <td>07/01/2016</td>\n",
       "      <td>60.27</td>\n",
       "      <td>40.27</td>\n",
       "      <td>164.62</td>\n",
       "      <td>97.92</td>\n",
       "      <td>96.45</td>\n",
       "      <td>741.00</td>\n",
       "      <td>29.99</td>\n",
       "      <td>12.70</td>\n",
       "    </tr>\n",
       "    <tr>\n",
       "      <td>08/01/2016</td>\n",
       "      <td>58.92</td>\n",
       "      <td>39.70</td>\n",
       "      <td>163.94</td>\n",
       "      <td>97.33</td>\n",
       "      <td>96.96</td>\n",
       "      <td>730.91</td>\n",
       "      <td>29.53</td>\n",
       "      <td>12.54</td>\n",
       "    </tr>\n",
       "  </tbody>\n",
       "</table>\n",
       "</div>"
      ],
      "text/plain": [
       "            JPM UN Equity  USB UN Equity  GS UN Equity  FB UW Equity  \\\n",
       "Date                                                                   \n",
       "04/01/2016          63.62          41.48        177.14        102.22   \n",
       "05/01/2016          63.73          41.68        174.09        102.73   \n",
       "06/01/2016          62.81          41.05        169.84        102.97   \n",
       "07/01/2016          60.27          40.27        164.62         97.92   \n",
       "08/01/2016          58.92          39.70        163.94         97.33   \n",
       "\n",
       "            AAPL UW Equity  GOOGL UW Equity  GM UN Equity  F UN Equity  \n",
       "Date                                                                    \n",
       "04/01/2016          105.35           759.44         33.31        13.97  \n",
       "05/01/2016          102.71           761.53         32.43        13.72  \n",
       "06/01/2016          100.70           759.33         31.27        13.11  \n",
       "07/01/2016           96.45           741.00         29.99        12.70  \n",
       "08/01/2016           96.96           730.91         29.53        12.54  "
      ]
     },
     "execution_count": 3,
     "metadata": {},
     "output_type": "execute_result"
    }
   ],
   "source": [
    "SP500.head()"
   ]
  },
  {
   "cell_type": "code",
   "execution_count": 4,
   "metadata": {},
   "outputs": [
    {
     "data": {
      "text/html": [
       "<div>\n",
       "<style scoped>\n",
       "    .dataframe tbody tr th:only-of-type {\n",
       "        vertical-align: middle;\n",
       "    }\n",
       "\n",
       "    .dataframe tbody tr th {\n",
       "        vertical-align: top;\n",
       "    }\n",
       "\n",
       "    .dataframe thead th {\n",
       "        text-align: right;\n",
       "    }\n",
       "</style>\n",
       "<table border=\"1\" class=\"dataframe\">\n",
       "  <thead>\n",
       "    <tr style=\"text-align: right;\">\n",
       "      <th></th>\n",
       "      <th>AAPL</th>\n",
       "      <th>% change</th>\n",
       "      <th>diff()</th>\n",
       "    </tr>\n",
       "    <tr>\n",
       "      <th>Date</th>\n",
       "      <th></th>\n",
       "      <th></th>\n",
       "      <th></th>\n",
       "    </tr>\n",
       "  </thead>\n",
       "  <tbody>\n",
       "    <tr>\n",
       "      <td>04/01/2016</td>\n",
       "      <td>105.35</td>\n",
       "      <td>NaN</td>\n",
       "      <td>NaN</td>\n",
       "    </tr>\n",
       "    <tr>\n",
       "      <td>05/01/2016</td>\n",
       "      <td>102.71</td>\n",
       "      <td>-0.025059</td>\n",
       "      <td>-2.64</td>\n",
       "    </tr>\n",
       "    <tr>\n",
       "      <td>06/01/2016</td>\n",
       "      <td>100.70</td>\n",
       "      <td>-0.019570</td>\n",
       "      <td>-2.01</td>\n",
       "    </tr>\n",
       "    <tr>\n",
       "      <td>07/01/2016</td>\n",
       "      <td>96.45</td>\n",
       "      <td>-0.042205</td>\n",
       "      <td>-4.25</td>\n",
       "    </tr>\n",
       "    <tr>\n",
       "      <td>08/01/2016</td>\n",
       "      <td>96.96</td>\n",
       "      <td>0.005288</td>\n",
       "      <td>0.51</td>\n",
       "    </tr>\n",
       "    <tr>\n",
       "      <td>...</td>\n",
       "      <td>...</td>\n",
       "      <td>...</td>\n",
       "      <td>...</td>\n",
       "    </tr>\n",
       "    <tr>\n",
       "      <td>05/09/2017</td>\n",
       "      <td>162.08</td>\n",
       "      <td>-0.012009</td>\n",
       "      <td>-1.97</td>\n",
       "    </tr>\n",
       "    <tr>\n",
       "      <td>06/09/2017</td>\n",
       "      <td>161.91</td>\n",
       "      <td>-0.001049</td>\n",
       "      <td>-0.17</td>\n",
       "    </tr>\n",
       "    <tr>\n",
       "      <td>07/09/2017</td>\n",
       "      <td>161.26</td>\n",
       "      <td>-0.004015</td>\n",
       "      <td>-0.65</td>\n",
       "    </tr>\n",
       "    <tr>\n",
       "      <td>08/09/2017</td>\n",
       "      <td>158.63</td>\n",
       "      <td>-0.016309</td>\n",
       "      <td>-2.63</td>\n",
       "    </tr>\n",
       "    <tr>\n",
       "      <td>11/09/2017</td>\n",
       "      <td>161.50</td>\n",
       "      <td>0.018092</td>\n",
       "      <td>2.87</td>\n",
       "    </tr>\n",
       "  </tbody>\n",
       "</table>\n",
       "<p>426 rows × 3 columns</p>\n",
       "</div>"
      ],
      "text/plain": [
       "              AAPL  % change  diff()\n",
       "Date                                \n",
       "04/01/2016  105.35       NaN     NaN\n",
       "05/01/2016  102.71 -0.025059   -2.64\n",
       "06/01/2016  100.70 -0.019570   -2.01\n",
       "07/01/2016   96.45 -0.042205   -4.25\n",
       "08/01/2016   96.96  0.005288    0.51\n",
       "...            ...       ...     ...\n",
       "05/09/2017  162.08 -0.012009   -1.97\n",
       "06/09/2017  161.91 -0.001049   -0.17\n",
       "07/09/2017  161.26 -0.004015   -0.65\n",
       "08/09/2017  158.63 -0.016309   -2.63\n",
       "11/09/2017  161.50  0.018092    2.87\n",
       "\n",
       "[426 rows x 3 columns]"
      ]
     },
     "execution_count": 4,
     "metadata": {},
     "output_type": "execute_result"
    }
   ],
   "source": [
    "aapl = SP500['AAPL UW Equity']\n",
    "pd.DataFrame({'AAPL': aapl, '% change':aapl.pct_change(), 'diff()': aapl.diff()})"
   ]
  },
  {
   "cell_type": "code",
   "execution_count": 5,
   "metadata": {},
   "outputs": [],
   "source": [
    "df_aapl = pd.DataFrame({'AAPL':aapl})"
   ]
  },
  {
   "cell_type": "code",
   "execution_count": 10,
   "metadata": {},
   "outputs": [
    {
     "data": {
      "text/html": [
       "<div>\n",
       "<style scoped>\n",
       "    .dataframe tbody tr th:only-of-type {\n",
       "        vertical-align: middle;\n",
       "    }\n",
       "\n",
       "    .dataframe tbody tr th {\n",
       "        vertical-align: top;\n",
       "    }\n",
       "\n",
       "    .dataframe thead th {\n",
       "        text-align: right;\n",
       "    }\n",
       "</style>\n",
       "<table border=\"1\" class=\"dataframe\">\n",
       "  <thead>\n",
       "    <tr style=\"text-align: right;\">\n",
       "      <th></th>\n",
       "      <th>AAPL</th>\n",
       "    </tr>\n",
       "  </thead>\n",
       "  <tbody>\n",
       "    <tr>\n",
       "      <td>count</td>\n",
       "      <td>426.000000</td>\n",
       "    </tr>\n",
       "    <tr>\n",
       "      <td>mean</td>\n",
       "      <td>120.740481</td>\n",
       "    </tr>\n",
       "    <tr>\n",
       "      <td>std</td>\n",
       "      <td>21.698799</td>\n",
       "    </tr>\n",
       "    <tr>\n",
       "      <td>min</td>\n",
       "      <td>90.340000</td>\n",
       "    </tr>\n",
       "    <tr>\n",
       "      <td>25%</td>\n",
       "      <td>101.967500</td>\n",
       "    </tr>\n",
       "    <tr>\n",
       "      <td>50%</td>\n",
       "      <td>113.420000</td>\n",
       "    </tr>\n",
       "    <tr>\n",
       "      <td>75%</td>\n",
       "      <td>142.657500</td>\n",
       "    </tr>\n",
       "    <tr>\n",
       "      <td>max</td>\n",
       "      <td>164.050000</td>\n",
       "    </tr>\n",
       "  </tbody>\n",
       "</table>\n",
       "</div>"
      ],
      "text/plain": [
       "             AAPL\n",
       "count  426.000000\n",
       "mean   120.740481\n",
       "std     21.698799\n",
       "min     90.340000\n",
       "25%    101.967500\n",
       "50%    113.420000\n",
       "75%    142.657500\n",
       "max    164.050000"
      ]
     },
     "execution_count": 10,
     "metadata": {},
     "output_type": "execute_result"
    }
   ],
   "source": [
    "df_aapl.describe()"
   ]
  },
  {
   "cell_type": "code",
   "execution_count": 11,
   "metadata": {},
   "outputs": [],
   "source": [
    "from matplotlib import pyplot"
   ]
  },
  {
   "cell_type": "code",
   "execution_count": 12,
   "metadata": {},
   "outputs": [
    {
     "data": {
      "text/plain": [
       "<matplotlib.axes._subplots.AxesSubplot at 0x1dfc05f75f8>"
      ]
     },
     "execution_count": 12,
     "metadata": {},
     "output_type": "execute_result"
    },
    {
     "data": {
      "image/png": "[encoded data removed]",
      "text/plain": [
       "<Figure size 432x288 with 1 Axes>"
      ]
     },
     "metadata": {
      "needs_background": "light"
     },
     "output_type": "display_data"
    }
   ],
   "source": [
    "df_aapl.plot()"
   ]
  },
  {
   "cell_type": "code",
   "execution_count": 7,
   "metadata": {},
   "outputs": [
    {
     "data": {
      "image/png": "[encoded data removed]",
      "text/plain": [
       "<Figure size 432x288 with 1 Axes>"
      ]
     },
     "metadata": {
      "needs_background": "light"
     },
     "output_type": "display_data"
    }
   ],
   "source": [
    "df_aapl.hist()\n",
    "pyplot.show()"
   ]
  },
  {
   "cell_type": "code",
   "execution_count": 18,
   "metadata": {},
   "outputs": [
    {
     "data": {
      "text/plain": [
       "(426,)"
      ]
     },
     "execution_count": 18,
     "metadata": {},
     "output_type": "execute_result"
    }
   ],
   "source": [
    "df_aapl.values.ravel().shape"
   ]
  },
  {
   "cell_type": "code",
   "execution_count": 19,
   "metadata": {},
   "outputs": [
    {
     "name": "stdout",
     "output_type": "stream",
     "text": [
      "ADF Statistic: 0.289211\n",
      "p-value: 0.976844\n",
      "Critical Values:\n",
      "\t1%: -3.446\n",
      "\t5%: -2.868\n",
      "\t10%: -2.570\n"
     ]
    }
   ],
   "source": [
    "# calculate stationarity test of time series data\n",
    "from statsmodels.tsa.stattools import adfuller\n",
    "X = df_aapl.values.ravel()\n",
    "result = adfuller(X)\n",
    "print('ADF Statistic: %f' % result[0])\n",
    "print('p-value: %f' % result[1])\n",
    "print('Critical Values:')\n",
    "for key, value in result[4].items():\n",
    "    print('\\t%s: %.3f' % (key, value))"
   ]
  },
  {
   "cell_type": "markdown",
   "metadata": {},
   "source": [
    "the p-value of 0.97 suggests we cannot reject the null hypothesis that there is a unit root i.e. the time series is non-stationary.\n",
    "see\n",
    "https://www.statsmodels.org/stable/generated/statsmodels.tsa.stattools.adfuller.html"
   ]
  },
  {
   "cell_type": "code",
   "execution_count": 20,
   "metadata": {},
   "outputs": [],
   "source": [
    "# create a differenced series\n",
    "def difference(dataset, interval=1):\n",
    "    diff = list()\n",
    "    for i in range(interval, len(dataset)):\n",
    "        value = dataset[i] - dataset[i - interval]\n",
    "        diff.append(value)\n",
    "    return Series(diff)"
   ]
  },
  {
   "cell_type": "code",
   "execution_count": 27,
   "metadata": {},
   "outputs": [
    {
     "data": {
      "text/plain": [
       "(426,)"
      ]
     },
     "execution_count": 27,
     "metadata": {},
     "output_type": "execute_result"
    }
   ],
   "source": [
    "X = df_aapl.values.ravel()\n",
    "X.shape"
   ]
  },
  {
   "cell_type": "code",
   "execution_count": 32,
   "metadata": {},
   "outputs": [
    {
     "data": {
      "image/png": "[encoded data removed]",
      "text/plain": [
       "<Figure size 432x288 with 4 Axes>"
      ]
     },
     "metadata": {
      "needs_background": "light"
     },
     "output_type": "display_data"
    }
   ],
   "source": [
    "from statsmodels.tsa.seasonal import seasonal_decompose\n",
    "X = df_aapl.values.ravel()\n",
    "result = seasonal_decompose(X, model='additive', freq=1)  #model='multiplicative'\n",
    "# print(result.trend)\n",
    "# print(result.seasonal)\n",
    "# print(result.resid)\n",
    "# print(result.observed)\n",
    "result.plot()\n",
    "pyplot.show()"
   ]
  },
  {
   "cell_type": "markdown",
   "metadata": {},
   "source": [
    "see\n",
    "https://machinelearningmastery.com/decompose-time-series-data-trend-seasonality/"
   ]
  },
  {
   "cell_type": "code",
   "execution_count": 37,
   "metadata": {},
   "outputs": [
    {
     "data": {
      "image/png": "[encoded data removed]",
      "text/plain": [
       "<Figure size 432x288 with 1 Axes>"
      ]
     },
     "metadata": {
      "needs_background": "light"
     },
     "output_type": "display_data"
    }
   ],
   "source": [
    "from statsmodels.graphics import tsaplots\n",
    "\n",
    "# Display the autocorrelation plot of your time series\n",
    "fig = tsaplots.plot_acf(df_aapl, lags=30)\n",
    "pyplot.show()"
   ]
  },
  {
   "cell_type": "code",
   "execution_count": null,
   "metadata": {},
   "outputs": [],
   "source": [
    "# TODO check plot KDE ..\n",
    "\n",
    "# line plot of residuals\n",
    "residuals = DataFrame(model_fit.resid)\n",
    "# density plot of residuals\n",
    "residuals.plot(kind='kde')\n",
    "pyplot.show()"
   ]
  },
  {
   "cell_type": "markdown",
   "metadata": {},
   "source": [
    "#### Time to Maturity\n",
    "\n",
    "consider this:\n",
    "- use time-to-maturity (TTM) when working with financial data\n",
    "- TTM can help the model handling non-stationarity in data\n",
    "- e.g. TTM -> time to the end of the (trading) day or some terminal day"
   ]
  },
  {
   "cell_type": "code",
   "execution_count": null,
   "metadata": {},
   "outputs": [],
   "source": []
  }
 ],
 "metadata": {
  "kernelspec": {
   "display_name": "Python 3",
   "language": "python",
   "name": "python3"
  },
  "language_info": {
   "codemirror_mode": {
    "name": "ipython",
    "version": 3
   },
   "file_extension": ".py",
   "mimetype": "text/x-python",
   "name": "python",
   "nbconvert_exporter": "python",
   "pygments_lexer": "ipython3",
   "version": "3.6.9"
  }
 },
 "nbformat": 4,
 "nbformat_minor": 2
}
