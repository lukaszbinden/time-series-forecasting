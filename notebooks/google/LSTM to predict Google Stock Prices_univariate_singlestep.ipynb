{
 "cells": [
  {
   "cell_type": "markdown",
   "metadata": {},
   "source": [
    "see https://github.com/AdityaGogoi/LSTM-to-predict-Google-stock-prices"
   ]
  },
  {
   "cell_type": "code",
   "execution_count": 2,
   "metadata": {},
   "outputs": [],
   "source": [
    "import numpy as np\n",
    "import matplotlib.pyplot as plt\n",
    "import pandas as pd"
   ]
  },
  {
   "cell_type": "code",
   "execution_count": 3,
   "metadata": {},
   "outputs": [],
   "source": [
    "# Just predicting the \"Open Stock Price\" for Google. So extracting 1 column.\n",
    "training_set = pd.read_csv('Google_Stock_Price_Train.csv')"
   ]
  },
  {
   "cell_type": "code",
   "execution_count": 7,
   "metadata": {},
   "outputs": [
    {
     "data": {
      "text/html": [
       "<div>\n",
       "<style scoped>\n",
       "    .dataframe tbody tr th:only-of-type {\n",
       "        vertical-align: middle;\n",
       "    }\n",
       "\n",
       "    .dataframe tbody tr th {\n",
       "        vertical-align: top;\n",
       "    }\n",
       "\n",
       "    .dataframe thead th {\n",
       "        text-align: right;\n",
       "    }\n",
       "</style>\n",
       "<table border=\"1\" class=\"dataframe\">\n",
       "  <thead>\n",
       "    <tr style=\"text-align: right;\">\n",
       "      <th></th>\n",
       "      <th>Date</th>\n",
       "      <th>Open</th>\n",
       "      <th>High</th>\n",
       "      <th>Low</th>\n",
       "      <th>Close</th>\n",
       "      <th>Volume</th>\n",
       "    </tr>\n",
       "  </thead>\n",
       "  <tbody>\n",
       "    <tr>\n",
       "      <td>1253</td>\n",
       "      <td>12/23/2016</td>\n",
       "      <td>790.90</td>\n",
       "      <td>792.74</td>\n",
       "      <td>787.28</td>\n",
       "      <td>789.91</td>\n",
       "      <td>623,400</td>\n",
       "    </tr>\n",
       "    <tr>\n",
       "      <td>1254</td>\n",
       "      <td>12/27/2016</td>\n",
       "      <td>790.68</td>\n",
       "      <td>797.86</td>\n",
       "      <td>787.66</td>\n",
       "      <td>791.55</td>\n",
       "      <td>789,100</td>\n",
       "    </tr>\n",
       "    <tr>\n",
       "      <td>1255</td>\n",
       "      <td>12/28/2016</td>\n",
       "      <td>793.70</td>\n",
       "      <td>794.23</td>\n",
       "      <td>783.20</td>\n",
       "      <td>785.05</td>\n",
       "      <td>1,153,800</td>\n",
       "    </tr>\n",
       "    <tr>\n",
       "      <td>1256</td>\n",
       "      <td>12/29/2016</td>\n",
       "      <td>783.33</td>\n",
       "      <td>785.93</td>\n",
       "      <td>778.92</td>\n",
       "      <td>782.79</td>\n",
       "      <td>744,300</td>\n",
       "    </tr>\n",
       "    <tr>\n",
       "      <td>1257</td>\n",
       "      <td>12/30/2016</td>\n",
       "      <td>782.75</td>\n",
       "      <td>782.78</td>\n",
       "      <td>770.41</td>\n",
       "      <td>771.82</td>\n",
       "      <td>1,770,000</td>\n",
       "    </tr>\n",
       "  </tbody>\n",
       "</table>\n",
       "</div>"
      ],
      "text/plain": [
       "            Date    Open    High     Low   Close     Volume\n",
       "1253  12/23/2016  790.90  792.74  787.28  789.91    623,400\n",
       "1254  12/27/2016  790.68  797.86  787.66  791.55    789,100\n",
       "1255  12/28/2016  793.70  794.23  783.20  785.05  1,153,800\n",
       "1256  12/29/2016  783.33  785.93  778.92  782.79    744,300\n",
       "1257  12/30/2016  782.75  782.78  770.41  771.82  1,770,000"
      ]
     },
     "execution_count": 7,
     "metadata": {},
     "output_type": "execute_result"
    }
   ],
   "source": [
    "training_set.tail()"
   ]
  },
  {
   "cell_type": "code",
   "execution_count": 8,
   "metadata": {},
   "outputs": [
    {
     "data": {
      "text/html": [
       "<div>\n",
       "<style scoped>\n",
       "    .dataframe tbody tr th:only-of-type {\n",
       "        vertical-align: middle;\n",
       "    }\n",
       "\n",
       "    .dataframe tbody tr th {\n",
       "        vertical-align: top;\n",
       "    }\n",
       "\n",
       "    .dataframe thead th {\n",
       "        text-align: right;\n",
       "    }\n",
       "</style>\n",
       "<table border=\"1\" class=\"dataframe\">\n",
       "  <thead>\n",
       "    <tr style=\"text-align: right;\">\n",
       "      <th></th>\n",
       "      <th>Open</th>\n",
       "    </tr>\n",
       "  </thead>\n",
       "  <tbody>\n",
       "    <tr>\n",
       "      <td>0</td>\n",
       "      <td>325.25</td>\n",
       "    </tr>\n",
       "    <tr>\n",
       "      <td>1</td>\n",
       "      <td>331.27</td>\n",
       "    </tr>\n",
       "    <tr>\n",
       "      <td>2</td>\n",
       "      <td>329.83</td>\n",
       "    </tr>\n",
       "    <tr>\n",
       "      <td>3</td>\n",
       "      <td>328.34</td>\n",
       "    </tr>\n",
       "    <tr>\n",
       "      <td>4</td>\n",
       "      <td>322.04</td>\n",
       "    </tr>\n",
       "    <tr>\n",
       "      <td>...</td>\n",
       "      <td>...</td>\n",
       "    </tr>\n",
       "    <tr>\n",
       "      <td>1253</td>\n",
       "      <td>790.90</td>\n",
       "    </tr>\n",
       "    <tr>\n",
       "      <td>1254</td>\n",
       "      <td>790.68</td>\n",
       "    </tr>\n",
       "    <tr>\n",
       "      <td>1255</td>\n",
       "      <td>793.70</td>\n",
       "    </tr>\n",
       "    <tr>\n",
       "      <td>1256</td>\n",
       "      <td>783.33</td>\n",
       "    </tr>\n",
       "    <tr>\n",
       "      <td>1257</td>\n",
       "      <td>782.75</td>\n",
       "    </tr>\n",
       "  </tbody>\n",
       "</table>\n",
       "<p>1258 rows × 1 columns</p>\n",
       "</div>"
      ],
      "text/plain": [
       "        Open\n",
       "0     325.25\n",
       "1     331.27\n",
       "2     329.83\n",
       "3     328.34\n",
       "4     322.04\n",
       "...      ...\n",
       "1253  790.90\n",
       "1254  790.68\n",
       "1255  793.70\n",
       "1256  783.33\n",
       "1257  782.75\n",
       "\n",
       "[1258 rows x 1 columns]"
      ]
     },
     "execution_count": 8,
     "metadata": {},
     "output_type": "execute_result"
    }
   ],
   "source": [
    "# Getting just the Open Stock Price for input of our RNN.\n",
    "# To convert the Vector form of a single column into a Matrix form, we will use 1:2 as the column index. \n",
    "# The 2nd column will be ignored and we will get our Open Stock Price Column in a Matrix form.\n",
    "# Output will be a 2d Numpy array, exactly what we want.\n",
    "train_set_open = training_set.iloc[:,1:2]\n",
    "train_set_open"
   ]
  },
  {
   "cell_type": "code",
   "execution_count": 9,
   "metadata": {},
   "outputs": [],
   "source": [
    "training_set = train_set_open.values"
   ]
  },
  {
   "cell_type": "code",
   "execution_count": 10,
   "metadata": {},
   "outputs": [],
   "source": [
    "# Feature Scaling\n",
    "# Will use Normalisation as the Scaling function.\n",
    "# Default range for MinMaxScaler is 0 to 1, which is what we want. So no arguments in it.\n",
    " # Will fit the training set to it and get it scaled and replace the original set.\n",
    "from sklearn.preprocessing import MinMaxScaler\n",
    "sc = MinMaxScaler()\n",
    "training_set = sc.fit_transform(training_set)"
   ]
  },
  {
   "cell_type": "code",
   "execution_count": 14,
   "metadata": {},
   "outputs": [
    {
     "data": {
      "text/html": [
       "<div>\n",
       "<style scoped>\n",
       "    .dataframe tbody tr th:only-of-type {\n",
       "        vertical-align: middle;\n",
       "    }\n",
       "\n",
       "    .dataframe tbody tr th {\n",
       "        vertical-align: top;\n",
       "    }\n",
       "\n",
       "    .dataframe thead th {\n",
       "        text-align: right;\n",
       "    }\n",
       "</style>\n",
       "<table border=\"1\" class=\"dataframe\">\n",
       "  <thead>\n",
       "    <tr style=\"text-align: right;\">\n",
       "      <th></th>\n",
       "      <th>0</th>\n",
       "    </tr>\n",
       "  </thead>\n",
       "  <tbody>\n",
       "    <tr>\n",
       "      <td>count</td>\n",
       "      <td>1258.000000</td>\n",
       "    </tr>\n",
       "    <tr>\n",
       "      <td>mean</td>\n",
       "      <td>0.473603</td>\n",
       "    </tr>\n",
       "    <tr>\n",
       "      <td>std</td>\n",
       "      <td>0.282581</td>\n",
       "    </tr>\n",
       "    <tr>\n",
       "      <td>min</td>\n",
       "      <td>0.000000</td>\n",
       "    </tr>\n",
       "    <tr>\n",
       "      <td>25%</td>\n",
       "      <td>0.232523</td>\n",
       "    </tr>\n",
       "    <tr>\n",
       "      <td>50%</td>\n",
       "      <td>0.480598</td>\n",
       "    </tr>\n",
       "    <tr>\n",
       "      <td>75%</td>\n",
       "      <td>0.699089</td>\n",
       "    </tr>\n",
       "    <tr>\n",
       "      <td>max</td>\n",
       "      <td>1.000000</td>\n",
       "    </tr>\n",
       "  </tbody>\n",
       "</table>\n",
       "</div>"
      ],
      "text/plain": [
       "                 0\n",
       "count  1258.000000\n",
       "mean      0.473603\n",
       "std       0.282581\n",
       "min       0.000000\n",
       "25%       0.232523\n",
       "50%       0.480598\n",
       "75%       0.699089\n",
       "max       1.000000"
      ]
     },
     "execution_count": 14,
     "metadata": {},
     "output_type": "execute_result"
    }
   ],
   "source": [
    "pd.DataFrame(training_set).describe()"
   ]
  },
  {
   "cell_type": "code",
   "execution_count": 15,
   "metadata": {},
   "outputs": [
    {
     "data": {
      "text/plain": [
       "(1258, 1)"
      ]
     },
     "execution_count": 15,
     "metadata": {},
     "output_type": "execute_result"
    }
   ],
   "source": [
    "training_set.shape"
   ]
  },
  {
   "cell_type": "code",
   "execution_count": 16,
   "metadata": {},
   "outputs": [],
   "source": [
    "# Getting the inputs and the ouputs\n",
    "# Restricting the input and output based on how LSTM functions.\n",
    "X_train = training_set[0:1257]\n",
    "y_train = training_set[1:1258]"
   ]
  },
  {
   "cell_type": "code",
   "execution_count": 17,
   "metadata": {},
   "outputs": [],
   "source": [
    "# Reshaping - Adding time interval as a dimension for input.\n",
    "X_train = np.reshape(X_train, (1257, 1, 1))"
   ]
  },
  {
   "cell_type": "code",
   "execution_count": 18,
   "metadata": {},
   "outputs": [
    {
     "data": {
      "text/plain": [
       "(1257, 1, 1)"
      ]
     },
     "execution_count": 18,
     "metadata": {},
     "output_type": "execute_result"
    }
   ],
   "source": [
    "X_train.shape"
   ]
  },
  {
   "cell_type": "code",
   "execution_count": 19,
   "metadata": {},
   "outputs": [
    {
     "data": {
      "text/plain": [
       "(1257, 1)"
      ]
     },
     "execution_count": 19,
     "metadata": {},
     "output_type": "execute_result"
    }
   ],
   "source": [
    "y_train.shape"
   ]
  },
  {
   "cell_type": "markdown",
   "metadata": {},
   "source": [
    "### Part 2 - Building the RNN"
   ]
  },
  {
   "cell_type": "code",
   "execution_count": 20,
   "metadata": {},
   "outputs": [
    {
     "name": "stderr",
     "output_type": "stream",
     "text": [
      "Using TensorFlow backend.\n"
     ]
    }
   ],
   "source": [
    "# Importing the Keras libraries and packages\n",
    "from keras.models import Sequential\n",
    "from keras.layers import Dense\n",
    "from keras.layers import LSTM"
   ]
  },
  {
   "cell_type": "code",
   "execution_count": 21,
   "metadata": {},
   "outputs": [],
   "source": [
    "# Initialising the RNN\n",
    "# Creating an object of Sequential class to create the RNN.\n",
    "regressor = Sequential()\n",
    "\n",
    "# Adding the input layer and the LSTM layer\n",
    "# 4 memory units, sigmoid activation function and (None time interval with 1 attribute as input)\n",
    "regressor.add(LSTM(units = 4, activation = 'sigmoid', input_shape = (None, 1)))\n",
    "\n",
    "# Adding the output layer\n",
    "# 1 nueron in the output layer for 1 dimensional output\n",
    "regressor.add(Dense(units = 1))\n",
    "\n",
    "# Compiling the RNN\n",
    "# Compiling all the layers together.\n",
    "# Loss helps in manipulation of weights in NN. \n",
    "regressor.compile(optimizer = 'adam', loss = 'mean_squared_error')"
   ]
  },
  {
   "cell_type": "code",
   "execution_count": 26,
   "metadata": {},
   "outputs": [
    {
     "data": {
      "text/plain": [
       "(1257, 1, 1)"
      ]
     },
     "execution_count": 26,
     "metadata": {},
     "output_type": "execute_result"
    }
   ],
   "source": [
    "X_train.shape"
   ]
  },
  {
   "cell_type": "code",
   "execution_count": 22,
   "metadata": {},
   "outputs": [
    {
     "name": "stdout",
     "output_type": "stream",
     "text": [
      "Epoch 1/200\n",
      "1257/1257 [==============================] - 0s 332us/step - loss: 0.1113\n",
      "Epoch 2/200\n",
      "1257/1257 [==============================] - 0s 61us/step - loss: 0.0914\n",
      "Epoch 3/200\n",
      "1257/1257 [==============================] - 0s 62us/step - loss: 0.0850\n",
      "Epoch 4/200\n",
      "1257/1257 [==============================] - 0s 70us/step - loss: 0.0827\n",
      "Epoch 5/200\n",
      "1257/1257 [==============================] - 0s 51us/step - loss: 0.0811\n",
      "Epoch 6/200\n",
      "1257/1257 [==============================] - 0s 47us/step - loss: 0.0794\n",
      "Epoch 7/200\n",
      "1257/1257 [==============================] - 0s 201us/step - loss: 0.0778\n",
      "Epoch 8/200\n",
      "1257/1257 [==============================] - 0s 84us/step - loss: 0.0761\n",
      "Epoch 9/200\n",
      "1257/1257 [==============================] - 0s 62us/step - loss: 0.0744\n",
      "Epoch 10/200\n",
      "1257/1257 [==============================] - 0s 56us/step - loss: 0.0727\n",
      "Epoch 11/200\n",
      "1257/1257 [==============================] - 0s 120us/step - loss: 0.0709\n",
      "Epoch 12/200\n",
      "1257/1257 [==============================] - 0s 188us/step - loss: 0.0692\n",
      "Epoch 13/200\n",
      "1257/1257 [==============================] - 0s 94us/step - loss: 0.0673\n",
      "Epoch 14/200\n",
      "1257/1257 [==============================] - 0s 67us/step - loss: 0.0655\n",
      "Epoch 15/200\n",
      "1257/1257 [==============================] - 0s 48us/step - loss: 0.0636\n",
      "Epoch 16/200\n",
      "1257/1257 [==============================] - 0s 50us/step - loss: 0.0617\n",
      "Epoch 17/200\n",
      "1257/1257 [==============================] - 0s 61us/step - loss: 0.0597\n",
      "Epoch 18/200\n",
      "1257/1257 [==============================] - 0s 51us/step - loss: 0.0577\n",
      "Epoch 19/200\n",
      "1257/1257 [==============================] - 0s 47us/step - loss: 0.0556\n",
      "Epoch 20/200\n",
      "1257/1257 [==============================] - 0s 50us/step - loss: 0.0535\n",
      "Epoch 21/200\n",
      "1257/1257 [==============================] - 0s 60us/step - loss: 0.0513\n",
      "Epoch 22/200\n",
      "1257/1257 [==============================] - 0s 67us/step - loss: 0.0490\n",
      "Epoch 23/200\n",
      "1257/1257 [==============================] - 0s 94us/step - loss: 0.0468\n",
      "Epoch 24/200\n",
      "1257/1257 [==============================] - 0s 74us/step - loss: 0.0444\n",
      "Epoch 25/200\n",
      "1257/1257 [==============================] - 0s 81us/step - loss: 0.0421\n",
      "Epoch 26/200\n",
      "1257/1257 [==============================] - 0s 87us/step - loss: 0.0397\n",
      "Epoch 27/200\n",
      "1257/1257 [==============================] - 0s 68us/step - loss: 0.0373\n",
      "Epoch 28/200\n",
      "1257/1257 [==============================] - 0s 51us/step - loss: 0.0349\n",
      "Epoch 29/200\n",
      "1257/1257 [==============================] - 0s 76us/step - loss: 0.0324\n",
      "Epoch 30/200\n",
      "1257/1257 [==============================] - 0s 54us/step - loss: 0.0300\n",
      "Epoch 31/200\n",
      "1257/1257 [==============================] - 0s 53us/step - loss: 0.0277\n",
      "Epoch 32/200\n",
      "1257/1257 [==============================] - 0s 56us/step - loss: 0.0254\n",
      "Epoch 33/200\n",
      "1257/1257 [==============================] - 0s 49us/step - loss: 0.0231\n",
      "Epoch 34/200\n",
      "1257/1257 [==============================] - 0s 113us/step - loss: 0.0209\n",
      "Epoch 35/200\n",
      "1257/1257 [==============================] - 0s 79us/step - loss: 0.0188\n",
      "Epoch 36/200\n",
      "1257/1257 [==============================] - 0s 61us/step - loss: 0.0168\n",
      "Epoch 37/200\n",
      "1257/1257 [==============================] - 0s 270us/step - loss: 0.0149\n",
      "Epoch 38/200\n",
      "1257/1257 [==============================] - 0s 125us/step - loss: 0.0131\n",
      "Epoch 39/200\n",
      "1257/1257 [==============================] - 0s 163us/step - loss: 0.0115\n",
      "Epoch 40/200\n",
      "1257/1257 [==============================] - 0s 104us/step - loss: 0.0100\n",
      "Epoch 41/200\n",
      "1257/1257 [==============================] - 0s 76us/step - loss: 0.0086\n",
      "Epoch 42/200\n",
      "1257/1257 [==============================] - 0s 57us/step - loss: 0.0074\n",
      "Epoch 43/200\n",
      "1257/1257 [==============================] - 0s 62us/step - loss: 0.0063\n",
      "Epoch 44/200\n",
      "1257/1257 [==============================] - 0s 55us/step - loss: 0.0053\n",
      "Epoch 45/200\n",
      "1257/1257 [==============================] - 0s 53us/step - loss: 0.0044\n",
      "Epoch 46/200\n",
      "1257/1257 [==============================] - 0s 61us/step - loss: 0.0037\n",
      "Epoch 47/200\n",
      "1257/1257 [==============================] - 0s 63us/step - loss: 0.0031\n",
      "Epoch 48/200\n",
      "1257/1257 [==============================] - 0s 69us/step - loss: 0.0025\n",
      "Epoch 49/200\n",
      "1257/1257 [==============================] - 0s 94us/step - loss: 0.0021\n",
      "Epoch 50/200\n",
      "1257/1257 [==============================] - 0s 54us/step - loss: 0.0017\n",
      "Epoch 51/200\n",
      "1257/1257 [==============================] - 0s 54us/step - loss: 0.0014\n",
      "Epoch 52/200\n",
      "1257/1257 [==============================] - 0s 52us/step - loss: 0.0011\n",
      "Epoch 53/200\n",
      "1257/1257 [==============================] - 0s 61us/step - loss: 9.3138e-04\n",
      "Epoch 54/200\n",
      "1257/1257 [==============================] - 0s 58us/step - loss: 7.7782e-04\n",
      "Epoch 55/200\n",
      "1257/1257 [==============================] - 0s 60us/step - loss: 6.4651e-04\n",
      "Epoch 56/200\n",
      "1257/1257 [==============================] - 0s 53us/step - loss: 5.5056e-04\n",
      "Epoch 57/200\n",
      "1257/1257 [==============================] - 0s 56us/step - loss: 4.7558e-04\n",
      "Epoch 58/200\n",
      "1257/1257 [==============================] - 0s 50us/step - loss: 4.1944e-04\n",
      "Epoch 59/200\n",
      "1257/1257 [==============================] - 0s 65us/step - loss: 3.7674e-04\n",
      "Epoch 60/200\n",
      "1257/1257 [==============================] - 0s 111us/step - loss: 3.4359e-04\n",
      "Epoch 61/200\n",
      "1257/1257 [==============================] - 0s 58us/step - loss: 3.1971e-04\n",
      "Epoch 62/200\n",
      "1257/1257 [==============================] - 0s 52us/step - loss: 3.0331e-04\n",
      "Epoch 63/200\n",
      "1257/1257 [==============================] - 0s 83us/step - loss: 2.8907e-04\n",
      "Epoch 64/200\n",
      "1257/1257 [==============================] - 0s 71us/step - loss: 2.8050e-04\n",
      "Epoch 65/200\n",
      "1257/1257 [==============================] - 0s 50us/step - loss: 2.7416e-04\n",
      "Epoch 66/200\n",
      "1257/1257 [==============================] - 0s 48us/step - loss: 2.6976e-04\n",
      "Epoch 67/200\n",
      "1257/1257 [==============================] - 0s 118us/step - loss: 2.6816e-04\n",
      "Epoch 68/200\n",
      "1257/1257 [==============================] - 0s 170us/step - loss: 2.6467e-04\n",
      "Epoch 69/200\n",
      "1257/1257 [==============================] - 0s 102us/step - loss: 2.6398e-04\n",
      "Epoch 70/200\n",
      "1257/1257 [==============================] - 0s 138us/step - loss: 2.6258e-04\n",
      "Epoch 71/200\n",
      "1257/1257 [==============================] - 0s 127us/step - loss: 2.6151e-04\n",
      "Epoch 72/200\n",
      "1257/1257 [==============================] - 0s 119us/step - loss: 2.6118e-04\n",
      "Epoch 73/200\n",
      "1257/1257 [==============================] - 0s 182us/step - loss: 2.6009e-04\n",
      "Epoch 74/200\n",
      "1257/1257 [==============================] - 0s 340us/step - loss: 2.6009e-04\n",
      "Epoch 75/200\n",
      "1257/1257 [==============================] - 0s 130us/step - loss: 2.5995e-04\n",
      "Epoch 76/200\n",
      "1257/1257 [==============================] - 0s 197us/step - loss: 2.5996e-04\n",
      "Epoch 77/200\n",
      "1257/1257 [==============================] - 0s 99us/step - loss: 2.5983e-04\n",
      "Epoch 78/200\n",
      "1257/1257 [==============================] - 0s 102us/step - loss: 2.5951e-04\n",
      "Epoch 79/200\n",
      "1257/1257 [==============================] - 0s 127us/step - loss: 2.5987e-04\n",
      "Epoch 80/200\n",
      "1257/1257 [==============================] - 0s 89us/step - loss: 2.5926e-04\n",
      "Epoch 81/200\n",
      "1257/1257 [==============================] - 0s 119us/step - loss: 2.5965e-04\n",
      "Epoch 82/200\n",
      "1257/1257 [==============================] - 0s 111us/step - loss: 2.5959e-04\n",
      "Epoch 83/200\n",
      "1257/1257 [==============================] - 0s 99us/step - loss: 2.5928e-04\n",
      "Epoch 84/200\n",
      "1257/1257 [==============================] - 0s 248us/step - loss: 2.5861e-04\n",
      "Epoch 85/200\n",
      "1257/1257 [==============================] - 0s 94us/step - loss: 2.6118e-04\n",
      "Epoch 86/200\n",
      "1257/1257 [==============================] - 0s 81us/step - loss: 2.5956e-04\n",
      "Epoch 87/200\n",
      "1257/1257 [==============================] - 0s 119us/step - loss: 2.5968e-04\n",
      "Epoch 88/200\n",
      "1257/1257 [==============================] - 0s 182us/step - loss: 2.6018e-04\n",
      "Epoch 89/200\n",
      "1257/1257 [==============================] - 0s 123us/step - loss: 2.5942e-04\n",
      "Epoch 90/200\n",
      "1257/1257 [==============================] - 0s 98us/step - loss: 2.5891e-04\n",
      "Epoch 91/200\n",
      "1257/1257 [==============================] - 0s 79us/step - loss: 2.5849e-04\n",
      "Epoch 92/200\n",
      "1257/1257 [==============================] - 0s 75us/step - loss: 2.5984e-04\n",
      "Epoch 93/200\n",
      "1257/1257 [==============================] - 0s 72us/step - loss: 2.5963e-04\n",
      "Epoch 94/200\n"
     ]
    },
    {
     "name": "stdout",
     "output_type": "stream",
     "text": [
      "1257/1257 [==============================] - 0s 88us/step - loss: 2.5686e-04\n",
      "Epoch 95/200\n",
      "1257/1257 [==============================] - 0s 65us/step - loss: 2.5813e-04\n",
      "Epoch 96/200\n",
      "1257/1257 [==============================] - 0s 55us/step - loss: 2.5864e-04\n",
      "Epoch 97/200\n",
      "1257/1257 [==============================] - 0s 48us/step - loss: 2.5956e-04\n",
      "Epoch 98/200\n",
      "1257/1257 [==============================] - 0s 45us/step - loss: 2.5977e-04\n",
      "Epoch 99/200\n",
      "1257/1257 [==============================] - 0s 47us/step - loss: 2.5798e-04\n",
      "Epoch 100/200\n",
      "1257/1257 [==============================] - 0s 52us/step - loss: 2.5691e-04\n",
      "Epoch 101/200\n",
      "1257/1257 [==============================] - 0s 79us/step - loss: 2.6261e-04\n",
      "Epoch 102/200\n",
      "1257/1257 [==============================] - 0s 144us/step - loss: 2.5755e-04\n",
      "Epoch 103/200\n",
      "1257/1257 [==============================] - 0s 65us/step - loss: 2.6041e-04\n",
      "Epoch 104/200\n",
      "1257/1257 [==============================] - 0s 48us/step - loss: 2.5665e-04\n",
      "Epoch 105/200\n",
      "1257/1257 [==============================] - 0s 48us/step - loss: 2.5710e-04\n",
      "Epoch 106/200\n",
      "1257/1257 [==============================] - 0s 48us/step - loss: 2.5815e-04\n",
      "Epoch 107/200\n",
      "1257/1257 [==============================] - 0s 42us/step - loss: 2.5714e-04\n",
      "Epoch 108/200\n",
      "1257/1257 [==============================] - 0s 77us/step - loss: 2.5805e-04\n",
      "Epoch 109/200\n",
      "1257/1257 [==============================] - 0s 74us/step - loss: 2.5754e-04\n",
      "Epoch 110/200\n",
      "1257/1257 [==============================] - 0s 48us/step - loss: 2.5771e-04\n",
      "Epoch 111/200\n",
      "1257/1257 [==============================] - 0s 48us/step - loss: 2.5839e-04\n",
      "Epoch 112/200\n",
      "1257/1257 [==============================] - 0s 127us/step - loss: 2.5725e-04\n",
      "Epoch 113/200\n",
      "1257/1257 [==============================] - 0s 205us/step - loss: 2.5638e-04\n",
      "Epoch 114/200\n",
      "1257/1257 [==============================] - 0s 141us/step - loss: 2.5666e-04\n",
      "Epoch 115/200\n",
      "1257/1257 [==============================] - 0s 264us/step - loss: 2.5728e-04\n",
      "Epoch 116/200\n",
      "1257/1257 [==============================] - 0s 241us/step - loss: 2.6024e-04\n",
      "Epoch 117/200\n",
      "1257/1257 [==============================] - 0s 190us/step - loss: 2.5742e-04\n",
      "Epoch 118/200\n",
      "1257/1257 [==============================] - 0s 284us/step - loss: 2.5560e-04\n",
      "Epoch 119/200\n",
      "1257/1257 [==============================] - 0s 140us/step - loss: 2.5567e-04\n",
      "Epoch 120/200\n",
      "1257/1257 [==============================] - 0s 111us/step - loss: 2.5529e-04\n",
      "Epoch 121/200\n",
      "1257/1257 [==============================] - 0s 105us/step - loss: 2.5659e-04\n",
      "Epoch 122/200\n",
      "1257/1257 [==============================] - 0s 124us/step - loss: 2.5823e-04\n",
      "Epoch 123/200\n",
      "1257/1257 [==============================] - 0s 85us/step - loss: 2.5597e-04\n",
      "Epoch 124/200\n",
      "1257/1257 [==============================] - 0s 115us/step - loss: 2.5494e-04\n",
      "Epoch 125/200\n",
      "1257/1257 [==============================] - 0s 80us/step - loss: 2.5511e-04\n",
      "Epoch 126/200\n",
      "1257/1257 [==============================] - 0s 98us/step - loss: 2.5683e-04\n",
      "Epoch 127/200\n",
      "1257/1257 [==============================] - 0s 67us/step - loss: 2.5656e-04\n",
      "Epoch 128/200\n",
      "1257/1257 [==============================] - 0s 171us/step - loss: 2.5652e-04\n",
      "Epoch 129/200\n",
      "1257/1257 [==============================] - 0s 94us/step - loss: 2.5791e-04\n",
      "Epoch 130/200\n",
      "1257/1257 [==============================] - 0s 94us/step - loss: 2.5543e-04\n",
      "Epoch 131/200\n",
      "1257/1257 [==============================] - 0s 114us/step - loss: 2.5743e-04\n",
      "Epoch 132/200\n",
      "1257/1257 [==============================] - 0s 125us/step - loss: 2.5643e-04\n",
      "Epoch 133/200\n",
      "1257/1257 [==============================] - 0s 96us/step - loss: 2.5454e-04\n",
      "Epoch 134/200\n",
      "1257/1257 [==============================] - 0s 127us/step - loss: 2.5801e-04\n",
      "Epoch 135/200\n",
      "1257/1257 [==============================] - 0s 80us/step - loss: 2.5566e-04\n",
      "Epoch 136/200\n",
      "1257/1257 [==============================] - 0s 47us/step - loss: 2.5460e-04\n",
      "Epoch 137/200\n",
      "1257/1257 [==============================] - 0s 55us/step - loss: 2.5571e-04\n",
      "Epoch 138/200\n",
      "1257/1257 [==============================] - 0s 51us/step - loss: 2.5627e-04\n",
      "Epoch 139/200\n",
      "1257/1257 [==============================] - 0s 56us/step - loss: 2.5519e-04\n",
      "Epoch 140/200\n",
      "1257/1257 [==============================] - 0s 58us/step - loss: 2.5540e-04\n",
      "Epoch 141/200\n",
      "1257/1257 [==============================] - 0s 67us/step - loss: 2.5456e-04\n",
      "Epoch 142/200\n",
      "1257/1257 [==============================] - 0s 74us/step - loss: 2.5460e-04\n",
      "Epoch 143/200\n",
      "1257/1257 [==============================] - 0s 60us/step - loss: 2.5460e-04\n",
      "Epoch 144/200\n",
      "1257/1257 [==============================] - 0s 43us/step - loss: 2.5490e-04\n",
      "Epoch 145/200\n",
      "1257/1257 [==============================] - 0s 50us/step - loss: 2.5475e-04\n",
      "Epoch 146/200\n",
      "1257/1257 [==============================] - 0s 52us/step - loss: 2.6617e-04\n",
      "Epoch 147/200\n",
      "1257/1257 [==============================] - 0s 91us/step - loss: 2.5878e-04\n",
      "Epoch 148/200\n",
      "1257/1257 [==============================] - 0s 66us/step - loss: 2.5757e-04\n",
      "Epoch 149/200\n",
      "1257/1257 [==============================] - 0s 60us/step - loss: 2.5757e-04\n",
      "Epoch 150/200\n",
      "1257/1257 [==============================] - 0s 63us/step - loss: 2.5806e-04\n",
      "Epoch 151/200\n",
      "1257/1257 [==============================] - 0s 52us/step - loss: 2.5526e-04\n",
      "Epoch 152/200\n",
      "1257/1257 [==============================] - 0s 54us/step - loss: 2.5736e-04\n",
      "Epoch 153/200\n",
      "1257/1257 [==============================] - 0s 56us/step - loss: 2.5613e-04\n",
      "Epoch 154/200\n",
      "1257/1257 [==============================] - 0s 64us/step - loss: 2.5401e-04\n",
      "Epoch 155/200\n",
      "1257/1257 [==============================] - 0s 96us/step - loss: 2.5550e-04\n",
      "Epoch 156/200\n",
      "1257/1257 [==============================] - 0s 98us/step - loss: 2.5593e-04\n",
      "Epoch 157/200\n",
      "1257/1257 [==============================] - 0s 80us/step - loss: 2.5652e-04\n",
      "Epoch 158/200\n",
      "1257/1257 [==============================] - 0s 260us/step - loss: 2.5537e-04\n",
      "Epoch 159/200\n",
      "1257/1257 [==============================] - 0s 152us/step - loss: 2.5457e-04\n",
      "Epoch 160/200\n",
      "1257/1257 [==============================] - 0s 259us/step - loss: 2.5145e-04\n",
      "Epoch 161/200\n",
      "1257/1257 [==============================] - 0s 240us/step - loss: 2.7283e-04\n",
      "Epoch 162/200\n",
      "1257/1257 [==============================] - 0s 233us/step - loss: 2.5478e-04\n",
      "Epoch 163/200\n",
      "1257/1257 [==============================] - 0s 201us/step - loss: 2.5401e-04\n",
      "Epoch 164/200\n",
      "1257/1257 [==============================] - 0s 158us/step - loss: 2.5799e-04\n",
      "Epoch 165/200\n",
      "1257/1257 [==============================] - 0s 109us/step - loss: 2.5453e-04\n",
      "Epoch 166/200\n",
      "1257/1257 [==============================] - 0s 113us/step - loss: 2.5472e-04\n",
      "Epoch 167/200\n",
      "1257/1257 [==============================] - 0s 113us/step - loss: 2.5988e-04\n",
      "Epoch 168/200\n",
      "1257/1257 [==============================] - 0s 124us/step - loss: 2.5661e-04\n",
      "Epoch 169/200\n",
      "1257/1257 [==============================] - 0s 109us/step - loss: 2.5297e-04\n",
      "Epoch 170/200\n",
      "1257/1257 [==============================] - 0s 113us/step - loss: 2.6040e-04\n",
      "Epoch 171/200\n",
      "1257/1257 [==============================] - 0s 94us/step - loss: 2.6017e-04\n",
      "Epoch 172/200\n",
      "1257/1257 [==============================] - 0s 138us/step - loss: 2.5672e-04\n",
      "Epoch 173/200\n",
      "1257/1257 [==============================] - 0s 378us/step - loss: 2.5595e-04\n",
      "Epoch 174/200\n",
      "1257/1257 [==============================] - 1s 432us/step - loss: 2.5339e-04\n",
      "Epoch 175/200\n",
      "1257/1257 [==============================] - 0s 269us/step - loss: 2.5408e-04\n",
      "Epoch 176/200\n",
      "1257/1257 [==============================] - 0s 148us/step - loss: 2.5345e-04\n",
      "Epoch 177/200\n",
      "1257/1257 [==============================] - 0s 175us/step - loss: 2.5414e-04\n",
      "Epoch 178/200\n",
      "1257/1257 [==============================] - 0s 117us/step - loss: 2.5550e-04\n",
      "Epoch 179/200\n",
      "1257/1257 [==============================] - 0s 99us/step - loss: 2.5237e-04\n",
      "Epoch 180/200\n",
      "1257/1257 [==============================] - 0s 94us/step - loss: 2.5463e-04\n",
      "Epoch 181/200\n",
      "1257/1257 [==============================] - 0s 182us/step - loss: 2.5358e-04\n",
      "Epoch 182/200\n",
      "1257/1257 [==============================] - 0s 90us/step - loss: 2.5351e-04\n",
      "Epoch 183/200\n"
     ]
    },
    {
     "name": "stdout",
     "output_type": "stream",
     "text": [
      "1257/1257 [==============================] - 0s 138us/step - loss: 2.5444e-04\n",
      "Epoch 184/200\n",
      "1257/1257 [==============================] - 0s 98us/step - loss: 2.5287e-04\n",
      "Epoch 185/200\n",
      "1257/1257 [==============================] - 0s 245us/step - loss: 2.5580e-04\n",
      "Epoch 186/200\n",
      "1257/1257 [==============================] - 0s 189us/step - loss: 2.6321e-04\n",
      "Epoch 187/200\n",
      "1257/1257 [==============================] - 0s 137us/step - loss: 2.5453e-04\n",
      "Epoch 188/200\n",
      " 736/1257 [================>.............] - ETA: 0s - loss: 2.6593e-04"
     ]
    },
    {
     "name": "stderr",
     "output_type": "stream",
     "text": [
      "C:\\dev\\python\\Anaconda3\\envs\\mli3\\lib\\site-packages\\keras\\callbacks\\callbacks.py:95: RuntimeWarning: Method (on_train_batch_end) is slow compared to the batch update (0.123664). Check your callbacks.\n",
      "  % (hook_name, delta_t_median), RuntimeWarning)\n"
     ]
    },
    {
     "name": "stdout",
     "output_type": "stream",
     "text": [
      "1257/1257 [==============================] - 0s 337us/step - loss: 2.5591e-04\n",
      "Epoch 189/200\n",
      "1257/1257 [==============================] - 0s 109us/step - loss: 2.5296e-04\n",
      "Epoch 190/200\n",
      "1257/1257 [==============================] - 0s 98us/step - loss: 2.5599e-04\n",
      "Epoch 191/200\n",
      "1257/1257 [==============================] - 0s 129us/step - loss: 2.5685e-04\n",
      "Epoch 192/200\n",
      "1257/1257 [==============================] - 0s 113us/step - loss: 2.5566e-04\n",
      "Epoch 193/200\n",
      "1257/1257 [==============================] - 0s 102us/step - loss: 2.5445e-04\n",
      "Epoch 194/200\n",
      "1257/1257 [==============================] - 0s 83us/step - loss: 2.5749e-04\n",
      "Epoch 195/200\n",
      "1257/1257 [==============================] - 0s 111us/step - loss: 2.5307e-04\n",
      "Epoch 196/200\n",
      "1257/1257 [==============================] - 0s 94us/step - loss: 2.5597e-04\n",
      "Epoch 197/200\n",
      "1257/1257 [==============================] - 0s 196us/step - loss: 2.5570e-04\n",
      "Epoch 198/200\n",
      "1257/1257 [==============================] - 0s 142us/step - loss: 2.5356e-04\n",
      "Epoch 199/200\n",
      "1257/1257 [==============================] - 0s 110us/step - loss: 2.5554e-04\n",
      "Epoch 200/200\n",
      "1257/1257 [==============================] - 0s 108us/step - loss: 2.5656e-04\n"
     ]
    },
    {
     "data": {
      "text/plain": [
       "<keras.callbacks.callbacks.History at 0x222f93b3438>"
      ]
     },
     "execution_count": 22,
     "metadata": {},
     "output_type": "execute_result"
    }
   ],
   "source": [
    "# Fitting the RNN to the Training set\n",
    "# Number of epochs increased for better convergence.\n",
    "regressor.fit(X_train, y_train, batch_size = 32, epochs = 200)"
   ]
  },
  {
   "cell_type": "markdown",
   "metadata": {},
   "source": [
    "### Part 3 - Making the predictions and visualising the results"
   ]
  },
  {
   "cell_type": "code",
   "execution_count": 23,
   "metadata": {},
   "outputs": [],
   "source": [
    "# Getting the real stock price of 2017\n",
    "test_set = pd.read_csv('Google_Stock_Price_Test.csv')\n",
    "real_stock_price = test_set.iloc[:,1:2].values"
   ]
  },
  {
   "cell_type": "code",
   "execution_count": 25,
   "metadata": {},
   "outputs": [
    {
     "data": {
      "text/plain": [
       "(20, 1)"
      ]
     },
     "execution_count": 25,
     "metadata": {},
     "output_type": "execute_result"
    }
   ],
   "source": [
    "real_stock_price.shape"
   ]
  },
  {
   "cell_type": "code",
   "execution_count": 27,
   "metadata": {},
   "outputs": [],
   "source": [
    "# Getting the predicted stock price of 2017\n",
    "inputs = real_stock_price\n",
    "inputs = sc.transform(inputs)\n",
    "inputs = np.reshape(inputs, (20, 1, 1))\n",
    "predicted_stock_price = regressor.predict(inputs)\n",
    "predicted_stock_price = sc.inverse_transform(predicted_stock_price)"
   ]
  },
  {
   "cell_type": "code",
   "execution_count": 28,
   "metadata": {},
   "outputs": [
    {
     "data": {
      "image/png": "[encoded data removed]",
      "text/plain": [
       "<Figure size 432x288 with 1 Axes>"
      ]
     },
     "metadata": {
      "needs_background": "light"
     },
     "output_type": "display_data"
    }
   ],
   "source": [
    "# Visualising the results\n",
    "plt.plot(real_stock_price, color = 'red', label = 'Real Google Stock Price')\n",
    "plt.plot(predicted_stock_price, color = 'blue', label = 'Predicted Google Stock Price')\n",
    "plt.title('Google Stock Price Prediction')\n",
    "plt.xlabel('Time')\n",
    "plt.ylabel('Google Stock Price')\n",
    "plt.legend()\n",
    "plt.show()"
   ]
  },
  {
   "cell_type": "code",
   "execution_count": 29,
   "metadata": {},
   "outputs": [
    {
     "data": {
      "text/plain": [
       "6.900446002734877"
      ]
     },
     "execution_count": 29,
     "metadata": {},
     "output_type": "execute_result"
    }
   ],
   "source": [
    "# Part 4 - Evaluating the RNN\n",
    "\n",
    "import math\n",
    "from sklearn.metrics import mean_squared_error\n",
    "rmse = math.sqrt(mean_squared_error(real_stock_price, predicted_stock_price))\n",
    "rmse"
   ]
  },
  {
   "cell_type": "code",
   "execution_count": null,
   "metadata": {},
   "outputs": [],
   "source": []
  }
 ],
 "metadata": {
  "kernelspec": {
   "display_name": "Python 3",
   "language": "python",
   "name": "python3"
  },
  "language_info": {
   "codemirror_mode": {
    "name": "ipython",
    "version": 3
   },
   "file_extension": ".py",
   "mimetype": "text/x-python",
   "name": "python",
   "nbconvert_exporter": "python",
   "pygments_lexer": "ipython3",
   "version": "3.6.9"
  }
 },
 "nbformat": 4,
 "nbformat_minor": 2
}
