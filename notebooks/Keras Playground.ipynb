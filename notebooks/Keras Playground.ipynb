{
 "cells": [
  {
   "cell_type": "code",
   "execution_count": 1,
   "metadata": {},
   "outputs": [],
   "source": [
    "import tensorflow as tf"
   ]
  },
  {
   "cell_type": "code",
   "execution_count": 11,
   "metadata": {},
   "outputs": [
    {
     "name": "stdout",
     "output_type": "stream",
     "text": [
      "(4, 9, 32)\n"
     ]
    }
   ],
   "source": [
    "# The inputs are 128-length vectors with 10 timesteps, and the batch size  \n",
    "# is 4.  \n",
    "num_features = 1\n",
    "timesteps = 10\n",
    "batch_size = 4\n",
    "\n",
    "input_shape = (batch_size, timesteps, num_features)\n",
    "x = tf.random.normal(input_shape)\n",
    "conv = tf.keras.layers.Conv1D(filters=32, kernel_size=2, \n",
    "                           activation='relu',\n",
    "                           input_shape=input_shape)\n",
    "y = conv(x)\n",
    "print(y.shape)"
   ]
  }
 ],
 "metadata": {
  "kernelspec": {
   "display_name": "Python 3",
   "language": "python",
   "name": "python3"
  },
  "language_info": {
   "codemirror_mode": {
    "name": "ipython",
    "version": 3
   },
   "file_extension": ".py",
   "mimetype": "text/x-python",
   "name": "python",
   "nbconvert_exporter": "python",
   "pygments_lexer": "ipython3",
   "version": "3.6.9"
  }
 },
 "nbformat": 4,
 "nbformat_minor": 2
}
